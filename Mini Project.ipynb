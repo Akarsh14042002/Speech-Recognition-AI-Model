{
 "cells": [
  {
   "cell_type": "code",
   "execution_count": 1,
   "id": "1bdad7a7",
   "metadata": {},
   "outputs": [
    {
     "name": "stdout",
     "output_type": "stream",
     "text": [
      "Collecting speechrecognition\n",
      "  Downloading SpeechRecognition-3.10.0-py2.py3-none-any.whl (32.8 MB)\n",
      "     ---------------------------------------- 32.8/32.8 MB 2.7 MB/s eta 0:00:00\n",
      "Requirement already satisfied: requests>=2.26.0 in c:\\users\\aman2\\anaconda3\\lib\\site-packages (from speechrecognition) (2.28.1)\n",
      "Requirement already satisfied: idna<4,>=2.5 in c:\\users\\aman2\\anaconda3\\lib\\site-packages (from requests>=2.26.0->speechrecognition) (3.4)\n",
      "Requirement already satisfied: urllib3<1.27,>=1.21.1 in c:\\users\\aman2\\anaconda3\\lib\\site-packages (from requests>=2.26.0->speechrecognition) (1.26.14)\n",
      "Requirement already satisfied: certifi>=2017.4.17 in c:\\users\\aman2\\anaconda3\\lib\\site-packages (from requests>=2.26.0->speechrecognition) (2022.12.7)\n",
      "Requirement already satisfied: charset-normalizer<3,>=2 in c:\\users\\aman2\\anaconda3\\lib\\site-packages (from requests>=2.26.0->speechrecognition) (2.0.4)\n",
      "Installing collected packages: speechrecognition\n",
      "Successfully installed speechrecognition-3.10.0\n"
     ]
    }
   ],
   "source": [
    "!pip install speechrecognition"
   ]
  },
  {
   "cell_type": "code",
   "execution_count": 2,
   "id": "e1a0944f",
   "metadata": {},
   "outputs": [
    {
     "name": "stdout",
     "output_type": "stream",
     "text": [
      "Collecting PyAudio\n",
      "  Downloading PyAudio-0.2.13-cp310-cp310-win_amd64.whl (164 kB)\n",
      "     -------------------------------------- 164.1/164.1 kB 4.8 MB/s eta 0:00:00\n",
      "Installing collected packages: PyAudio\n",
      "Successfully installed PyAudio-0.2.13\n"
     ]
    }
   ],
   "source": [
    "!pip3 install PyAudio\n"
   ]
  },
  {
   "cell_type": "code",
   "execution_count": 3,
   "id": "264a0d80",
   "metadata": {},
   "outputs": [
    {
     "name": "stdout",
     "output_type": "stream",
     "text": [
      "Collecting pyttsx3\n",
      "  Downloading pyttsx3-2.90-py3-none-any.whl (39 kB)\n",
      "Collecting pypiwin32\n",
      "  Downloading pypiwin32-223-py3-none-any.whl (1.7 kB)\n",
      "Collecting comtypes\n",
      "  Downloading comtypes-1.1.14-py2.py3-none-any.whl (172 kB)\n",
      "     -------------------------------------- 172.8/172.8 kB 5.2 MB/s eta 0:00:00\n",
      "Requirement already satisfied: pywin32 in c:\\users\\aman2\\anaconda3\\lib\\site-packages (from pyttsx3) (305.1)\n",
      "Installing collected packages: comtypes, pypiwin32, pyttsx3\n",
      "Successfully installed comtypes-1.1.14 pypiwin32-223 pyttsx3-2.90\n"
     ]
    }
   ],
   "source": [
    "!pip install pyttsx3"
   ]
  },
  {
   "cell_type": "code",
   "execution_count": 4,
   "id": "3e8024fd",
   "metadata": {},
   "outputs": [],
   "source": [
    "import speech_recognition\n",
    "import pyttsx3\n",
    "import pyaudio"
   ]
  },
  {
   "cell_type": "code",
   "execution_count": null,
   "id": "2f77e6d5",
   "metadata": {},
   "outputs": [
    {
     "name": "stdout",
     "output_type": "stream",
     "text": [
      "Recognized hello my name is aman verma\n",
      "Recognized stop\n",
      "Recognized the project is working good\n",
      "Recognized good\n",
      "Recognized bed\n"
     ]
    }
   ],
   "source": [
    "recognizer = speech_recognition.Recognizer();\n",
    "while True:\n",
    "  try:\n",
    "    with speech_recognition.Microphone() as mic:\n",
    "      recognizer.adjust_for_ambient_noise(mic,duration=0.2)\n",
    "      audio = recognizer.listen(mic)\n",
    "\n",
    "      text = recognizer.recognize_google(audio)\n",
    "      text = text.lower()\n",
    "\n",
    "      print(f\"Recognized {text}\")\n",
    "  except speech_recognition.UnknownValueError():\n",
    "    recognizer = speech_recognition.Recognizer()\n",
    "    continue"
   ]
  },
  {
   "cell_type": "code",
   "execution_count": null,
   "id": "66d032f3",
   "metadata": {},
   "outputs": [],
   "source": []
  }
 ],
 "metadata": {
  "kernelspec": {
   "display_name": "Python 3 (ipykernel)",
   "language": "python",
   "name": "python3"
  },
  "language_info": {
   "codemirror_mode": {
    "name": "ipython",
    "version": 3
   },
   "file_extension": ".py",
   "mimetype": "text/x-python",
   "name": "python",
   "nbconvert_exporter": "python",
   "pygments_lexer": "ipython3",
   "version": "3.10.9"
  }
 },
 "nbformat": 4,
 "nbformat_minor": 5
}
